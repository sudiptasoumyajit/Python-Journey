{
 "cells": [
  {
   "cell_type": "markdown",
   "metadata": {},
   "source": [
    "<h1>Homework For PRO-C97<h1>\n",
    "<h3>By - Soumyajit Das</h3>"
   ]
  },
  {
   "cell_type": "markdown",
   "metadata": {},
   "source": [
    "<u>Project 1</u> <b>Leap Year Finder</b>"
   ]
  },
  {
   "cell_type": "code",
   "execution_count": 8,
   "metadata": {},
   "outputs": [
    {
     "name": "stdout",
     "output_type": "stream",
     "text": [
      "3035 is not a leap year\n"
     ]
    }
   ],
   "source": [
    "year = int(input(\"Enter Any Year of Your Choice:\"))\n",
    "\n",
    "if (year % 400 == 0) and (year% 100 == 0):\n",
    "    print(\"{0} is a leap year\".format(year))\n",
    "\n",
    "elif (year % 4 ==0) and (year % 100 != 0):\n",
    "    print(\"{0} is a leap year\".format(year))\n",
    "\n",
    "else:\n",
    "    print(\"{0} is not a leap year\".format(year))"
   ]
  },
  {
   "cell_type": "markdown",
   "metadata": {},
   "source": [
    "<u>Project 2</u> <b>CM to Inch & Feet</b>"
   ]
  },
  {
   "cell_type": "code",
   "execution_count": 9,
   "metadata": {},
   "outputs": [
    {
     "name": "stdout",
     "output_type": "stream",
     "text": [
      "Value CM to INCH: 30.708678000000003\n",
      "Value CM to FEET: 2.5590552\n"
     ]
    }
   ],
   "source": [
    "val_cm = int(input(\"Enter Any Value In CMs: \"))\n",
    "\n",
    "def convert_to_inch(val_cm):\n",
    "    val_inch = val_cm * 0.393701\n",
    "    return val_inch\n",
    "\n",
    "def convert_to_feet(val_cm):\n",
    "    val_feet = val_cm * 0.0328084\n",
    "    return val_feet\n",
    "\n",
    "val_inch = convert_to_inch(val_cm)\n",
    "print(\"Value CM to INCH: \" + str(val_inch))\n",
    "\n",
    "val_feet = convert_to_feet(val_cm)\n",
    "print(\"Value CM to FEET: \" + str(val_feet))"
   ]
  }
 ],
 "metadata": {
  "kernelspec": {
   "display_name": "Python 3",
   "language": "python",
   "name": "python3"
  },
  "language_info": {
   "codemirror_mode": {
    "name": "ipython",
    "version": 3
   },
   "file_extension": ".py",
   "mimetype": "text/x-python",
   "name": "python",
   "nbconvert_exporter": "python",
   "pygments_lexer": "ipython3",
   "version": "3.12.2"
  }
 },
 "nbformat": 4,
 "nbformat_minor": 2
}
