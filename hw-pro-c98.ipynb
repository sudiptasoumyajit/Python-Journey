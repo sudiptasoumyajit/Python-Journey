{
 "cells": [
  {
   "cell_type": "markdown",
   "metadata": {},
   "source": [
    "<h1>Homework For PRO-C98<h1>\n",
    "<h3>By - Soumyajit Das</h3>"
   ]
  },
  {
   "cell_type": "markdown",
   "metadata": {},
   "source": [
    "<u>Project 1</u> <b>Divisiblity of 4</b>"
   ]
  },
  {
   "cell_type": "code",
   "execution_count": 1,
   "metadata": {},
   "outputs": [
    {
     "name": "stdout",
     "output_type": "stream",
     "text": [
      "6\n",
      "12\n",
      "18\n",
      "24\n",
      "30\n",
      "36\n",
      "42\n",
      "48\n",
      "54\n",
      "60\n",
      "66\n",
      "72\n",
      "78\n"
     ]
    }
   ],
   "source": [
    "lower_limit = int(input(\"Enter lower range limit: \"))\n",
    "upper_limit = int(input(\"Enter upper range limit: \"))\n",
    "\n",
    "divisor = int(input(\"Enter the number to be divided by: \"))\n",
    "\n",
    "for number in range(lower_limit, upper_limit + 1):\n",
    "    if number % divisor == 0:\n",
    "        print(number)"
   ]
  }
 ],
 "metadata": {
  "kernelspec": {
   "display_name": "Python 3",
   "language": "python",
   "name": "python3"
  },
  "language_info": {
   "codemirror_mode": {
    "name": "ipython",
    "version": 3
   },
   "file_extension": ".py",
   "mimetype": "text/x-python",
   "name": "python",
   "nbconvert_exporter": "python",
   "pygments_lexer": "ipython3",
   "version": "3.12.2"
  }
 },
 "nbformat": 4,
 "nbformat_minor": 2
}
