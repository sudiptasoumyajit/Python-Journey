{
 "cells": [
  {
   "cell_type": "code",
   "execution_count": 4,
   "metadata": {},
   "outputs": [
    {
     "name": "stdout",
     "output_type": "stream",
     "text": [
      "Name\n",
      "Create a GUI to read any CSV, clean the data, and create widgets to select the column names, and graph type\n"
     ]
    }
   ],
   "source": [
    "print('Name')\n",
    "print('Create a GUI to read any CSV, clean the data, and create widgets to select the column names, and graph type')"
   ]
  },
  {
   "cell_type": "code",
   "execution_count": 5,
   "metadata": {},
   "outputs": [],
   "source": [
    "#pre defined code\n",
    "from ipywidgets import widgets\n",
    "from IPython.display import display, clear_output\n",
    "import pandas as pd\n",
    "from tkinter import Tk, filedialog\n",
    "import matplotlib.pyplot as plt \n",
    "\n",
    "graph_type = ['Choose one.. ','line','bar']\n",
    "operation =['choose','mean','max','min','sum','count']\n",
    "df = ''\n",
    "new_df = ''\n",
    "\n",
    "\n",
    "def select_files(b):\n",
    "    clear_output()\n",
    "    global df\n",
    "    root = Tk()\n",
    "    root.withdraw() \n",
    "    file_name = filedialog.askopenfilename()\n",
    "    df = pd.read_csv(file_name)\n",
    "    print(file_name)\n",
    "    df.replace('',float('nan'),inplace=True)\n",
    "    df.replace('0',float('nan'),inplace=True)\n",
    "    df=df.dropna()\n",
    "    display(df)\n",
    "    groupby_col_widget=widgets.Dropdown(options=df.columns)\n",
    "    operation_col_widget=widgets.Dropdown(options=df.columns)\n",
    "    operation_widget=widgets.Dropdown(options=operation)\n",
    "    groupby_int=widgets.interactive(groupby_dataframe,groupby_column=groupby_col_widget,operation_column=operation_col_widget,operation=operation_widget)\n",
    "    display(groupby_int)\n",
    "def get_widget():\n",
    "    global df\n",
    "    global new_df\n",
    "    xlabel_widget=widgets.Dropdown(options=new_df.columns)\n",
    "    ylabel_widget=widgets.Dropdown(options=new_df.columns)\n",
    "    graph_widget=widgets.Dropdown(options=graph_type)\n",
    "    graph=widgets.interactive(display_plot,xaxis=xlabel_widget,yaxis=ylabel_widget,graphy_type=graph_widget)\n",
    "    display(graph)\n",
    "def groupby_dataframe(groupby_column,operation_column,operation):\n",
    "    print('Group By')\n",
    "fileselect = widgets.Button(description=\"File select\")\n",
    "fileselect.on_click(select_files)\n",
    "\n",
    "display(fileselect)\n",
    "#pre defined code end"
   ]
  },
  {
   "cell_type": "code",
   "execution_count": null,
   "metadata": {},
   "outputs": [],
   "source": []
  },
  {
   "cell_type": "code",
   "execution_count": null,
   "metadata": {},
   "outputs": [],
   "source": []
  },
  {
   "cell_type": "code",
   "execution_count": null,
   "metadata": {},
   "outputs": [],
   "source": []
  }
 ],
 "metadata": {
  "kernelspec": {
   "display_name": "Python 3 (ipykernel)",
   "language": "python",
   "name": "python3"
  },
  "language_info": {
   "codemirror_mode": {
    "name": "ipython",
    "version": 3
   },
   "file_extension": ".py",
   "mimetype": "text/x-python",
   "name": "python",
   "nbconvert_exporter": "python",
   "pygments_lexer": "ipython3",
   "version": "3.9.12"
  }
 },
 "nbformat": 4,
 "nbformat_minor": 4
}
