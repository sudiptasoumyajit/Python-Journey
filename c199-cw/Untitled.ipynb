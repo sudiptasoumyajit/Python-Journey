{
 "cells": [
  {
   "cell_type": "code",
   "execution_count": 7,
   "id": "a70a4e7f",
   "metadata": {
    "scrolled": true
   },
   "outputs": [],
   "source": [
    "from ipywidgets import widgets\n",
    "from IPython.display import display, clear_output\n",
    "import pandas as pd\n",
    "import matplotlib.pyplot as plt \n",
    "from tkinter import Tk, filedialog\n",
    "\n",
    "graph_type = ['Choose one.. ','line','bar']\n",
    "df = ''\n",
    "def select_files(b):\n",
    "    clear_output()\n",
    "    global graph_type\n",
    "    global df\n",
    "    root = Tk()\n",
    "    root.withdraw()\n",
    "    file_name = filedialog.askopenfilename()\n",
    "    df=pd.read_csv(file_name)\n",
    "    print(file_name)\n",
    "    xlabel_widget=widgets.Dropdown(options=df.columns)\n",
    "    ylabel_widget=widgets.Dropdown(options=df.columns)\n",
    "    graph_widget=widgets.Dropdown(options=graph_type)\n",
    "    graph = widgets.interactive(display_plot,xaxis=xlabel_widget,yaxis=ylabel_widget,graph_type=graph_widget)\n",
    "    display(graph)\n",
    "def display_plot(xaxis,yaxis,graph_type):\n",
    "    global df\n",
    "    if(graph_type=='line'):\n",
    "        plt.subplots(figsize=(19,8))\n",
    "        plt.plot(df[xaxis],df[yaxis],linewidth=3.0)\n",
    "        plt.xlabel(xaxis)\n",
    "        plt.ylabel(yaxis)\n",
    "        plt.xticks(rotation='vertical')\n",
    "        plt.show()\n",
    "    elif(graph_type=='bar'):\n",
    "        plt.subplots(figsize=(19,8))\n",
    "        plt.bar(df[xaxis],df[yaxis],color=['red','green','blue','yellow','orange','pink','black','grey'])\n",
    "        plt.xlabel(xaxis)\n",
    "        plt.ylabel(yaxis)\n",
    "        plt.xticks(rotation='vertical')\n",
    "        plt.show()\n",
    "    else:\n",
    "        print('Error To Generate The Graphy')\n",
    "    \n",
    "fileselect = widgets.Button(description=\"File select\")\n",
    "fileselect.on_click(select_files) \n",
    "display(fileselect)\n"
   ]
  },
  {
   "cell_type": "code",
   "execution_count": null,
   "id": "61e79777",
   "metadata": {},
   "outputs": [],
   "source": []
  }
 ],
 "metadata": {
  "kernelspec": {
   "display_name": "Python 3 (ipykernel)",
   "language": "python",
   "name": "python3"
  },
  "language_info": {
   "codemirror_mode": {
    "name": "ipython",
    "version": 3
   },
   "file_extension": ".py",
   "mimetype": "text/x-python",
   "name": "python",
   "nbconvert_exporter": "python",
   "pygments_lexer": "ipython3",
   "version": "3.9.12"
  }
 },
 "nbformat": 4,
 "nbformat_minor": 5
}
