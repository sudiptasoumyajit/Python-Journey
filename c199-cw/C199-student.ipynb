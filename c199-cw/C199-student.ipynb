{
 "cells": [
  {
   "cell_type": "code",
   "execution_count": null,
   "metadata": {},
   "outputs": [
    {
     "ename": "",
     "evalue": "",
     "output_type": "error",
     "traceback": [
      "\u001b[1;31mFailed to start the Kernel. \n",
      "\u001b[1;31mUnable to start Kernel 'Python 2022.5.x 64-bit' due to connection timeout. \n",
      "\u001b[1;31mView Jupyter <a href='command:jupyter.viewOutput'>log</a> for further details."
     ]
    }
   ],
   "source": [
    "print(\"Name : \")\n",
    "print(\"We will be learning how to create a application on juipter which has GUI elements and how to manuipulate the output as per the values selected from the GUI components\")"
   ]
  },
  {
   "cell_type": "markdown",
   "metadata": {},
   "source": [
    "# Code for GUI compenents and manuipulating the output"
   ]
  },
  {
   "cell_type": "code",
   "execution_count": null,
   "metadata": {},
   "outputs": [
    {
     "ename": "",
     "evalue": "",
     "output_type": "error",
     "traceback": [
      "\u001b[1;31mFailed to start the Kernel. \n",
      "\u001b[1;31mUnable to start Kernel 'Python 2022.5.x 64-bit' due to connection timeout. \n",
      "\u001b[1;31mView Jupyter <a href='command:jupyter.viewOutput'>log</a> for further details."
     ]
    }
   ],
   "source": [
    "from ipywidgets import widgets\n",
    "from IPython.display import display, clear_output\n",
    "import pandas as pd\n",
    "import matplotlib.pyplot as plt \n",
    "from tkinter import Tk, filedialog\n",
    "\n",
    "graph_type = ['Choose one.. ','line','bar']\n",
    "df = ''\n",
    "def select_files(b):\n",
    "    clear_output()\n",
    "    global graph_type\n",
    "    global df\n",
    "    root = Tk()\n",
    "    root.withdraw()\n",
    "    file_name = filedialog.askopenfilename()\n",
    "    df=pd.read_csv(file_name)\n",
    "    print(file_name)\n",
    "    xlabel_widget=widgets.Dropdown(options=df.columns)\n",
    "    ylabel_widget=widgets.Dropdown(options=df.columns)\n",
    "    graph_widget=widgets.Dropdown(options=graph_type)\n",
    "    graph = widgets.interactive(display_plot,xaxis=xlabel_widget,yaxis=ylabel_widget)\n",
    "    display(graph)\n",
    "def display_plot(xaxis,yaxis,graph_type):\n",
    "    global df\n",
    "    if(graph_type=='line'):\n",
    "        plt.subplots(figsize=(19,8))\n",
    "        plt.plot(df[xaxis],df[yaxis],linewidth=3.0)\n",
    "        plt.xlabel(xaxis)\n",
    "        plt.ylabel(yaxis)\n",
    "        plt.xticks(rotation='vertical')\n",
    "        plt.show()\n",
    "    elif(graph_type=='line'):\n",
    "        color=['red','green','blue','yellow','orange','pink','black','grey']\n",
    "        plt.subplots(figsize=(19,8))\n",
    "        plt.plot(df[xaxis],df[yaxis],color)\n",
    "        plt.xlabel(xaxis)\n",
    "        plt.ylabel(yaxis)\n",
    "        plt.xticks(rotation='vertical')\n",
    "        plt.show()\n",
    "    else:\n",
    "        print('Error To Generate The Graphy')\n",
    "    \n",
    "fileselect = widgets.Button(description=\"File select\")\n",
    "fileselect.on_click(select_files) \n",
    "display(fileselect)\n"
   ]
  },
  {
   "cell_type": "code",
   "execution_count": null,
   "metadata": {},
   "outputs": [
    {
     "ename": "",
     "evalue": "",
     "output_type": "error",
     "traceback": [
      "\u001b[1;31mFailed to start the Kernel. \n",
      "\u001b[1;31mUnable to start Kernel 'Python 2022.5.x 64-bit' due to connection timeout. \n",
      "\u001b[1;31mView Jupyter <a href='command:jupyter.viewOutput'>log</a> for further details."
     ]
    }
   ],
   "source": []
  }
 ],
 "metadata": {
  "kernelspec": {
   "display_name": "Python 2022.5.x 64-bit",
   "language": "python",
   "name": "python3"
  },
  "language_info": {
   "codemirror_mode": {
    "name": "ipython",
    "version": 3
   },
   "file_extension": ".py",
   "mimetype": "text/x-python",
   "name": "python",
   "nbconvert_exporter": "python",
   "pygments_lexer": "ipython3",
   "version": "2022.5"
  },
  "vscode": {
   "interpreter": {
    "hash": "203fb68ed9506319b861e78955e2d4bc919f8e099456321c2bb5549ddb2a14aa"
   }
  }
 },
 "nbformat": 4,
 "nbformat_minor": 4
}
