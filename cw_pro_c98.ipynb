{
  "cells": [
    {
      "cell_type": "code",
      "execution_count": 4,
      "metadata": {
        "colab": {
          "base_uri": "https://localhost:8080/"
        },
        "id": "7OQFodt5vM4d",
        "outputId": "35bbbcd6-cbb6-466a-872f-ecf047029ca4"
      },
      "outputs": [
        {
          "name": "stdout",
          "output_type": "stream",
          "text": [
            "0\n",
            "2\n",
            "4\n"
          ]
        }
      ],
      "source": [
        "for i in range (0, 5, 2):\n",
        "  print(i)"
      ]
    },
    {
      "cell_type": "code",
      "execution_count": 5,
      "metadata": {
        "colab": {
          "base_uri": "https://localhost:8080/"
        },
        "id": "dCLBu-Z7vxLx",
        "outputId": "27f261f6-59e6-4ba2-af51-e93ae95e1111"
      },
      "outputs": [
        {
          "name": "stdout",
          "output_type": "stream",
          "text": [
            "41\n"
          ]
        }
      ],
      "source": [
        "list_of_marks = [75, 98, 89, 86, 79, 62, 78, 61, 90, 97, 92, 61, 64, 97, 82, 69, 87, 96, 65, 75, 85, 76, 95, 83, 62, 80, 80, 77, 94, 71, 86, 94, 85, 99, 77, 68, 92, 91, 19, 99, 90]\n",
        "print(len(list_of_marks))"
      ]
    },
    {
      "cell_type": "code",
      "execution_count": 7,
      "metadata": {
        "colab": {
          "base_uri": "https://localhost:8080/"
        },
        "id": "-wiaO8V9wvqD",
        "outputId": "531e6ded-0a6c-48f5-d110-2371aa7bd98b"
      },
      "outputs": [
        {
          "name": "stdout",
          "output_type": "stream",
          "text": [
            "2\n"
          ]
        }
      ],
      "source": [
        "count = 0\n",
        "check_num = 62\n",
        "\n",
        "for element in list_of_marks:\n",
        "  if (check_num == element):\n",
        "    count = count + 1\n",
        "\n",
        "print(count)"
      ]
    },
    {
      "cell_type": "code",
      "execution_count": 1,
      "metadata": {
        "colab": {
          "base_uri": "https://localhost:8080/",
          "height": 220
        },
        "id": "G0CiEt6QxUyc",
        "outputId": "43305048-e8a4-4a91-8ea9-94f518ffa287"
      },
      "outputs": [
        {
          "name": "stdout",
          "output_type": "stream",
          "text": [
            "8\n"
          ]
        }
      ],
      "source": [
        "tuple1 = (1,3,5,7,8,0)\n",
        "#print(tuple1)\n",
        "#print(tuple1[3])\n",
        "#print(tuple1[0:3])\n",
        "print(tuple1[4])\n",
        "#This Part Willn't Work\n",
        "#tuple1[4] = 9\n",
        "#print(tuple1[4])"
      ]
    },
    {
      "cell_type": "code",
      "execution_count": 4,
      "metadata": {},
      "outputs": [
        {
          "name": "stdout",
          "output_type": "stream",
          "text": [
            "0  \n",
            "0  1  \n",
            "0  1  2  \n",
            "0  1  2  3  \n",
            "0  1  2  3  4  \n"
          ]
        }
      ],
      "source": [
        "num = int(input(\"Enter The Number of Rows:  \"))\n",
        "for i in range (0, num):\n",
        "    for j in range(0, i + 1):\n",
        "        print(j, end = '  ')\n",
        "    print()"
      ]
    },
    {
      "cell_type": "code",
      "execution_count": null,
      "metadata": {},
      "outputs": [],
      "source": []
    }
  ],
  "metadata": {
    "colab": {
      "provenance": []
    },
    "kernelspec": {
      "display_name": "Python 3",
      "name": "python3"
    },
    "language_info": {
      "codemirror_mode": {
        "name": "ipython",
        "version": 3
      },
      "file_extension": ".py",
      "mimetype": "text/x-python",
      "name": "python",
      "nbconvert_exporter": "python",
      "pygments_lexer": "ipython3",
      "version": "3.12.2"
    }
  },
  "nbformat": 4,
  "nbformat_minor": 0
}
