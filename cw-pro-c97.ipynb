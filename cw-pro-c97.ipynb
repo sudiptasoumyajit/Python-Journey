{
 "cells": [
  {
   "cell_type": "code",
   "execution_count": 1,
   "metadata": {},
   "outputs": [
    {
     "name": "stdout",
     "output_type": "stream",
     "text": [
      "<class 'float'>\n"
     ]
    }
   ],
   "source": [
    "a = 7.5\n",
    "print(type(a))"
   ]
  },
  {
   "cell_type": "code",
   "execution_count": 2,
   "metadata": {},
   "outputs": [
    {
     "name": "stdout",
     "output_type": "stream",
     "text": [
      "90.5\n"
     ]
    }
   ],
   "source": [
    "celcius = 32.5\n",
    "fahrenhite = (celcius * (9 / 5)) + 32\n",
    "print(fahrenhite)"
   ]
  },
  {
   "cell_type": "code",
   "execution_count": 6,
   "metadata": {},
   "outputs": [
    {
     "data": {
      "text/plain": [
       "50.0"
      ]
     },
     "execution_count": 6,
     "metadata": {},
     "output_type": "execute_result"
    }
   ],
   "source": [
    "cel = float(input(\"Input The Temp. In Celcius:    \"))\n",
    "\n",
    "def convert_to_f(cel):\n",
    "    fahrenhite = (cel * (9 / 5)) + 32\n",
    "    return fahrenhite\n",
    "\n",
    "convert_to_f(10)"
   ]
  },
  {
   "cell_type": "code",
   "execution_count": 7,
   "metadata": {},
   "outputs": [],
   "source": [
    "def add(x, y):\n",
    "    return x+y\n",
    "\n",
    "def sub(x, y):\n",
    "    return x-y\n",
    "\n",
    "def prod(x, y):\n",
    "    return x*y\n",
    "\n",
    "def div(x, y):\n",
    "    return x/y"
   ]
  },
  {
   "cell_type": "code",
   "execution_count": 8,
   "metadata": {},
   "outputs": [],
   "source": [
    "def calculator(option):\n",
    "    if (option == \"1\" or option == \"2\"):\n",
    "        num1 = float(input(\"Enter First Number: \"))\n",
    "        num2 = float(input(\"Enter Second Number: \"))\n",
    "\n",
    "        if option == '1':\n",
    "            print('sum ',num1,'+',num2,'=',add(num1, num2))\n",
    "        \n",
    "        elif option == '2':\n",
    "            print('diff ',num1,\"-\",num2,'=',sub(num1, num2))\n",
    "    \n",
    "    else:\n",
    "        print('invalid input must be an integer or float number')"
   ]
  },
  {
   "cell_type": "code",
   "execution_count": 10,
   "metadata": {},
   "outputs": [
    {
     "name": "stdout",
     "output_type": "stream",
     "text": [
      "choose operation from below:\n",
      "1, add\n",
      "2, sub\n",
      "diff  200000.0 - -4444.0 = 204444.0\n"
     ]
    }
   ],
   "source": [
    "#INSTRUCTION FOR USER\n",
    "print(\"choose operation from below:\")\n",
    "print(\"1, add\")\n",
    "print(\"2, sub\")\n",
    "\n",
    "option = input('Enter option number [1 / 2]: ')\n",
    "calculator(option)"
   ]
  }
 ],
 "metadata": {
  "kernelspec": {
   "display_name": "Python 3",
   "language": "python",
   "name": "python3"
  },
  "language_info": {
   "codemirror_mode": {
    "name": "ipython",
    "version": 3
   },
   "file_extension": ".py",
   "mimetype": "text/x-python",
   "name": "python",
   "nbconvert_exporter": "python",
   "pygments_lexer": "ipython3",
   "version": "3.12.2"
  }
 },
 "nbformat": 4,
 "nbformat_minor": 2
}
