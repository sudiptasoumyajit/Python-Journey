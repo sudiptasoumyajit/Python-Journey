{
 "cells": [
  {
   "cell_type": "markdown",
   "metadata": {},
   "source": [
    "<h1>Homework For PRO-C99<h1>\n",
    "<h3>By - Soumyajit Das</h3>"
   ]
  },
  {
   "cell_type": "markdown",
   "metadata": {},
   "source": [
    "<u>Project 1</u> <b>Square Star Pattern With Diagonal Names</b>"
   ]
  },
  {
   "cell_type": "code",
   "execution_count": 7,
   "metadata": {},
   "outputs": [
    {
     "name": "stdout",
     "output_type": "stream",
     "text": [
      "4\n",
      "a * \n",
      "* d \n"
     ]
    }
   ],
   "source": [
    "name = input(\"Enter your name: \")\n",
    "\n",
    "name_length = len(name)\n",
    "\n",
    "side_length = 1\n",
    "while side_length * side_length < name_length:\n",
    "    side_length += 1\n",
    "\n",
    "index = 0\n",
    "\n",
    "for i in range(side_length):\n",
    "    for j in range(side_length):\n",
    "        if i == j and index < name_length:\n",
    "            print(name[index], end=\" \")\n",
    "            index += 1\n",
    "        else:\n",
    "            print(\"*\", end=\" \")\n",
    "    print()"
   ]
  }
 ],
 "metadata": {
  "kernelspec": {
   "display_name": "Python 3",
   "language": "python",
   "name": "python3"
  },
  "language_info": {
   "codemirror_mode": {
    "name": "ipython",
    "version": 3
   },
   "file_extension": ".py",
   "mimetype": "text/x-python",
   "name": "python",
   "nbconvert_exporter": "python",
   "pygments_lexer": "ipython3",
   "version": "3.12.2"
  }
 },
 "nbformat": 4,
 "nbformat_minor": 2
}
