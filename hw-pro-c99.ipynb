{
 "cells": [
  {
   "cell_type": "markdown",
   "metadata": {},
   "source": [
    "<h1>Homework For PRO-C99<h1>\n",
    "<h3>By - Soumyajit Das</h3>"
   ]
  },
  {
   "cell_type": "markdown",
   "metadata": {},
   "source": [
    "<u>Project 1</u> <b>Square Star Pattern With Diagonal Names</b>"
   ]
  },
  {
   "cell_type": "code",
   "execution_count": 9,
   "metadata": {},
   "outputs": [
    {
     "name": "stdout",
     "output_type": "stream",
     "text": [
      "s * * * * * * * * \n",
      "* o * * * * * * * \n",
      "* * u * * * * * * \n",
      "* * * m * * * * * \n",
      "* * * * y * * * * \n",
      "* * * * * a * * * \n",
      "* * * * * * j * * \n",
      "* * * * * * * i * \n",
      "* * * * * * * * t \n"
     ]
    }
   ],
   "source": [
    "# Prompt the user to enter their name\n",
    "name = input(\"Enter your name: \")\n",
    "\n",
    "# Calculate the length of the name\n",
    "name_length = len(name)\n",
    "\n",
    "# Determine the side length of the square\n",
    "side_length = name_length\n",
    "\n",
    "# Initialize the index to track letters in the name\n",
    "index = 0\n",
    "\n",
    "# Print the pattern\n",
    "for i in range(side_length):\n",
    "    for j in range(side_length):\n",
    "        if i == j and index < name_length:\n",
    "            print(name[index], end=\" \")\n",
    "            index += 1\n",
    "        else:\n",
    "            print(\"*\", end=\" \")\n",
    "    print()  # New line after each row\n"
   ]
  }
 ],
 "metadata": {
  "kernelspec": {
   "display_name": "Python 3",
   "language": "python",
   "name": "python3"
  },
  "language_info": {
   "codemirror_mode": {
    "name": "ipython",
    "version": 3
   },
   "file_extension": ".py",
   "mimetype": "text/x-python",
   "name": "python",
   "nbconvert_exporter": "python",
   "pygments_lexer": "ipython3",
   "version": "3.12.2"
  }
 },
 "nbformat": 4,
 "nbformat_minor": 2
}
